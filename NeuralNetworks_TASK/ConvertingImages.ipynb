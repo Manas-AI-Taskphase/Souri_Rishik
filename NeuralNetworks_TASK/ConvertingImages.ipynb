{
 "cells": [
  {
   "cell_type": "code",
   "execution_count": 9,
   "metadata": {},
   "outputs": [
    {
     "name": "stdout",
     "output_type": "stream",
     "text": [
      "CSV file 'TestingData.csv' created successfully.\n"
     ]
    }
   ],
   "source": [
    "import os\n",
    "import cv2\n",
    "import numpy as np\n",
    "import csv\n",
    "from zipfile import ZipFile\n",
    "\n",
    "def load_images_from_zip(zip_path, label):\n",
    "    images = []\n",
    "    labels = []\n",
    "\n",
    "    with ZipFile(zip_path, 'r') as zip_file:\n",
    "        for file_info in zip_file.infolist():\n",
    "            # Check if the file is an image\n",
    "            if not file_info.filename.lower().endswith(('.jpg', '.jpeg', '.png')):\n",
    "                continue\n",
    "\n",
    "            with zip_file.open(file_info) as file:\n",
    "                image = cv2.imdecode(np.frombuffer(file.read(), np.uint8), cv2.IMREAD_GRAYSCALE)\n",
    "\n",
    "                if image is None:\n",
    "                    print(f\"Error loading image: {file_info.filename}\")\n",
    "                    continue\n",
    "\n",
    "                image = cv2.resize(image, (28, 28))\n",
    "                image = (image * 255).astype(int)\n",
    "\n",
    "                images.append(image.flatten())\n",
    "                labels.append(label)\n",
    "\n",
    "    return images, labels\n",
    "\n",
    "base_path = 'test.zip'\n",
    "output_csv_path = 'TestingData.csv'\n",
    "\n",
    "with open(output_csv_path, mode='w', newline='') as csv_file:\n",
    "    csv_writer = csv.writer(csv_file)\n",
    "\n",
    "    header = ['label'] + [f'pixel_{i}' for i in range(784)]  # 28x28 = 784 pixels\n",
    "    csv_writer.writerow(header)\n",
    "\n",
    "    label_counter = 0\n",
    "\n",
    "    images, labels = load_images_from_zip(base_path, label_counter)\n",
    "\n",
    "    for i in range(len(images)):\n",
    "        csv_writer.writerow([labels[i]] + list(images[i]))\n",
    "\n",
    "    label_counter += 1\n",
    "\n",
    "print(f\"CSV file '{output_csv_path}' created successfully.\")\n"
   ]
  }
 ],
 "metadata": {
  "kernelspec": {
   "display_name": "Python 3",
   "language": "python",
   "name": "python3"
  },
  "language_info": {
   "codemirror_mode": {
    "name": "ipython",
    "version": 3
   },
   "file_extension": ".py",
   "mimetype": "text/x-python",
   "name": "python",
   "nbconvert_exporter": "python",
   "pygments_lexer": "ipython3",
   "version": "3.12.0"
  }
 },
 "nbformat": 4,
 "nbformat_minor": 2
}
