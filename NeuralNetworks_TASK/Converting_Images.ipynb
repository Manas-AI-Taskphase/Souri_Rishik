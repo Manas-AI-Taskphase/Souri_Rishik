{
 "cells": [
  {
   "cell_type": "code",
   "execution_count": 8,
   "metadata": {},
   "outputs": [
    {
     "name": "stdout",
     "output_type": "stream",
     "text": [
      "CSV file 'Character_TestData.csv' created successfully.\n"
     ]
    }
   ],
   "source": [
    "import cv2\n",
    "import numpy as np\n",
    "import csv\n",
    "from zipfile import ZipFile\n",
    "\n",
    "label_map = {\n",
    "    'bart_simpson': 0, 'charles_montgomery_burns': 1, 'homer_simpson': 2,\n",
    "    'krusty_the_clown': 3, 'lisa_simpson': 4, 'marge_simpson': 5,\n",
    "    'milhouse_van_houten': 6, 'moe_szyslak': 7, 'ned_flanders': 8,\n",
    "    'principal_skinner': 9\n",
    "}\n",
    "\n",
    "def load_images_from_zip(zip_path, label_map):\n",
    "    images, labels = [], []\n",
    "\n",
    "    with ZipFile(zip_path, 'r') as zip_file:\n",
    "        for file_info in zip_file.infolist():\n",
    "            parts = file_info.filename.split('/')\n",
    "            if len(parts) == 3:\n",
    "                character_name, file_name = parts[1], parts[2]\n",
    "                if character_name in label_map and file_name.lower().endswith(('.jpg', '.jpeg', '.png')):\n",
    "                    with zip_file.open(file_info) as file:\n",
    "                        data = file.read()\n",
    "                        if data:\n",
    "                            image = cv2.imdecode(np.frombuffer(data, np.uint8), cv2.IMREAD_GRAYSCALE)\n",
    "                            if image is not None:\n",
    "                                image = cv2.resize(image, (28, 28))\n",
    "                                image = (image * 255).astype(int)\n",
    "                                images.append(image.flatten())\n",
    "                                labels.append(label_map[character_name])\n",
    "\n",
    "    return images, labels\n",
    "\n",
    "base_path = 'test.zip'\n",
    "output_csv_path = 'Character_TestData.csv'\n",
    "\n",
    "with open(output_csv_path, mode='w', newline='') as csv_file:\n",
    "    csv_writer = csv.writer(csv_file)\n",
    "    csv_writer.writerow(['label'] + [f'pixel_{i}' for i in range(784)])\n",
    "\n",
    "    images, labels = load_images_from_zip(base_path, label_map)\n",
    "\n",
    "    for label, image in zip(labels, images):\n",
    "        csv_writer.writerow([label] + list(image))\n",
    "\n",
    "print(f\"CSV file '{output_csv_path}' created successfully.\")\n"
   ]
  }
 ],
 "metadata": {
  "kernelspec": {
   "display_name": "Python 3",
   "language": "python",
   "name": "python3"
  },
  "language_info": {
   "codemirror_mode": {
    "name": "ipython",
    "version": 3
   },
   "file_extension": ".py",
   "mimetype": "text/x-python",
   "name": "python",
   "nbconvert_exporter": "python",
   "pygments_lexer": "ipython3",
   "version": "3.12.0"
  }
 },
 "nbformat": 4,
 "nbformat_minor": 2
}
